{
 "cells": [
  {
   "cell_type": "markdown",
   "metadata": {},
   "source": [
    "# U.S. EPA Food Commodity Intake Database (FCID)\n",
    "## [https://fcid.foodrisk.org/](https://fcid.foodrisk.org/)"
   ]
  },
  {
   "cell_type": "markdown",
   "metadata": {},
   "source": [
    "Ativando uma conexão de banco de dados em memória usando o SGBD H2:"
   ]
  },
  {
   "cell_type": "code",
   "execution_count": 1,
   "metadata": {},
   "outputs": [],
   "source": [
    "%defaultDatasource jdbc:h2:mem:db"
   ]
  },
  {
   "cell_type": "markdown",
   "metadata": {},
   "source": [
    "# Importando Tabelas do FCID"
   ]
  },
  {
   "cell_type": "code",
   "execution_count": 2,
   "metadata": {},
   "outputs": [],
   "source": [
    "DROP TABLE IF EXISTS Crop_Group;\n",
    "DROP TABLE IF EXISTS FCID_Description;\n",
    "DROP TABLE IF EXISTS Recipes;\n",
    "DROP TABLE IF EXISTS Intake;\n",
    "\n",
    "CREATE TABLE Crop_Group (\n",
    "  CGN VARCHAR(2),\n",
    "  CGL VARCHAR(6),\n",
    "  Crop_Group_Description VARCHAR(80),\n",
    "  PRIMARY KEY (CGL)\n",
    ") AS SELECT\n",
    "  CGN, CGL, Crop_Group_Description\n",
    "FROM CSVREAD('../../data/food-intake/basics/FCID_Cropgroup_Description.csv');\n",
    "\n",
    "CREATE TABLE FCID_Description (\n",
    "  CGN VARCHAR(2),\n",
    "  CG_Subgroup VARCHAR(6),\n",
    "  FCID_Code VARCHAR(10),\n",
    "  FCID_Desc VARCHAR(55),\n",
    "  PRIMARY KEY (FCID_Code),\n",
    ") AS SELECT\n",
    "  cgn, CG_Subgroup, FCID_Code, FCID_Desc\n",
    "FROM CSVREAD('../../data/food-intake/basics/FCID_Code_Description.csv');\n",
    "\n",
    "CREATE TABLE Recipes (\n",
    "  Food_Code VARCHAR(8),\n",
    "  Mod_Code VARCHAR(8),\n",
    "  Ingredient_Num TINYINT,\n",
    "  FCID_Code VARCHAR(10),\n",
    "  Cooked_Status TINYINT,\n",
    "  Food_Form TINYINT,\n",
    "  Cooking_Method TINYINT,\n",
    "  Commodity_Weight DECIMAL(5, 2),\n",
    "  CSFII_9498_IND TINYINT,\n",
    "  WWEIA_9904_IND TINYINT,\n",
    "  WWEIA_0510_IND TINYINT,\n",
    "  PRIMARY KEY(Food_Code, Mod_Code, Ingredient_Num),\n",
    "  FOREIGN KEY(FCID_Code)\n",
    "    REFERENCES FCID_Description(FCID_Code)\n",
    "      ON DELETE NO ACTION\n",
    "      ON UPDATE NO ACTION\n",
    ") AS SELECT\n",
    "  Food_Code, Mod_Code, Ingredient_Num, FCID_Code, Cooked_Status, Food_Form, Cooking_Method,\n",
    "  Commodity_Weight, CSFII_9498_IND, WWEIA_9904_IND, WWEIA_0510_IND\n",
    "FROM CSVREAD('../../data/food-intake/recipes/Recipes_WWEIA_FCID_0510.csv');\n",
    "\n",
    "CREATE TABLE Intake (\n",
    "  SeqN INTEGER NOT NULL,\n",
    "  DayCode TINYINT NOT NULL,\n",
    "  DraBF TINYINT,\n",
    "  FCID_Code VARCHAR(10),\n",
    "  Cooked_Status TINYINT,\n",
    "  Food_Form TINYINT,\n",
    "  Cooking_Method TINYINT,\n",
    "  Intake DECIMAL(13,7),\n",
    "  Intake_BW DECIMAL(13,10),\n",
    "  PRIMARY KEY(SeqN, DayCode, FCID_Code, Cooked_Status, Food_Form, Cooking_Method),\n",
    "  FOREIGN KEY(FCID_Code)\n",
    "    REFERENCES FCID_Description(FCID_Code)\n",
    "      ON DELETE NO ACTION\n",
    "      ON UPDATE NO ACTION\n",
    ") AS SELECT\n",
    "  SEQN, DAYCODE, DRABF, FCID_Code, Cooked_Status, Food_Form, Cooking_Method, Intake,Intake_BW\n",
    "FROM CSVREAD('../../data/food-intake/consumption/Commodity_CSFFM_Intake_0510-cropped.csv');"
   ]
  },
  {
   "cell_type": "markdown",
   "metadata": {},
   "source": [
    "# Visualizando as Tabelas"
   ]
  },
  {
   "cell_type": "code",
   "execution_count": 3,
   "metadata": {},
   "outputs": [
    {
     "data": {
      "application/vnd.jupyter.widget-view+json": {
       "model_id": "6abdaf8a-9de4-44ea-8788-c6557800a86f",
       "version_major": 2,
       "version_minor": 0
      },
      "method": "display_data"
     },
     "metadata": {},
     "output_type": "display_data"
    }
   ],
   "source": [
    "SELECT * FROM FCID_Description LIMIT 10;"
   ]
  },
  {
   "cell_type": "code",
   "execution_count": 4,
   "metadata": {},
   "outputs": [
    {
     "data": {
      "application/vnd.jupyter.widget-view+json": {
       "model_id": "407f2d88-3a73-4538-b1b3-ef418654c8a4",
       "version_major": 2,
       "version_minor": 0
      },
      "method": "display_data"
     },
     "metadata": {},
     "output_type": "display_data"
    }
   ],
   "source": [
    "SELECT * FROM Recipes LIMIT 10;"
   ]
  },
  {
   "cell_type": "code",
   "execution_count": 5,
   "metadata": {},
   "outputs": [
    {
     "data": {
      "application/vnd.jupyter.widget-view+json": {
       "model_id": "592911a8-b8ee-4080-a19e-0fd45a7ed9f7",
       "version_major": 2,
       "version_minor": 0
      },
      "method": "display_data"
     },
     "metadata": {},
     "output_type": "display_data"
    }
   ],
   "source": [
    "SELECT * FROM Intake LIMIT 10;"
   ]
  },
  {
   "cell_type": "code",
   "execution_count": 15,
   "metadata": {},
   "outputs": [
    {
     "data": {
      "application/vnd.jupyter.widget-view+json": {
       "model_id": "7c640175-4422-46a7-8ce2-edcded0a1fb7",
       "version_major": 2,
       "version_minor": 0
      },
      "method": "display_data"
     },
     "metadata": {},
     "output_type": "display_data"
    }
   ],
   "source": [
    "SELECT * FROM CROP_GROUP LIMIT 10"
   ]
  },
  {
   "cell_type": "markdown",
   "metadata": {},
   "source": [
    "## 1)  Apresentando uma Receita\n",
    "\n",
    "* Liste os ingredientes da receita de código `27111300` - Mexican style beef stew, no potatoes, tomato-based sauce (mixture).\n",
    "* Não devem aparecer as modificações da receita.\n",
    "* Mostre apenas o código da receita, o código de cada ingrediente, sua ordem e a participação no peso."
   ]
  },
  {
   "cell_type": "code",
   "execution_count": 13,
   "metadata": {},
   "outputs": [
    {
     "data": {
      "application/vnd.jupyter.widget-view+json": {
       "model_id": "ae7e8f5c-d052-4a6a-ad99-89a5bcf61594",
       "version_major": 2,
       "version_minor": 0
      },
      "method": "display_data"
     },
     "metadata": {},
     "output_type": "display_data"
    }
   ],
   "source": [
    "SELECT R.FOOD_CODE, R.FCID_CODE, R.INGREDIENT_NUM, R.COMMODITY_WEIGHT\n",
    "FROM RECIPES R\n",
    "WHERE R.FOOD_CODE = '27111300' AND R.MOD_CODE = 0"
   ]
  },
  {
   "cell_type": "markdown",
   "metadata": {},
   "source": [
    "## 2) Receita com Nomes de Ingredientes\n",
    "* Aprimore a solução (1) para apresentar o nome dos ingredientes junto com seus códigos."
   ]
  },
  {
   "cell_type": "code",
   "execution_count": 14,
   "metadata": {},
   "outputs": [
    {
     "data": {
      "application/vnd.jupyter.widget-view+json": {
       "model_id": "7a293e5f-67a3-434d-83bb-d631678d6fef",
       "version_major": 2,
       "version_minor": 0
      },
      "method": "display_data"
     },
     "metadata": {},
     "output_type": "display_data"
    }
   ],
   "source": [
    "SELECT R.FOOD_CODE, R.FCID_CODE, R.INGREDIENT_NUM, R.COMMODITY_WEIGHT, F.FCID_DESC\n",
    "FROM RECIPES R, FCID_DESCRIPTION F\n",
    "WHERE R.FOOD_CODE = '27111300' AND R.FCID_CODE = F.FCID_CODE AND R.MOD_CODE = 0"
   ]
  },
  {
   "cell_type": "markdown",
   "metadata": {},
   "source": [
    "## 3) Grupos Alimentares da Receita\n",
    "* A partir da receita escolhida em (1), apresente os grupos alimentares dos ingredientes contidos na receita.\n",
    "* Cada grupo alimentar só deve aparecer uma vez no resultado.\n",
    "* Para se obter o nome do grupo alimentar na tabela `Crop_Group` (não o subgrupo) devem ser considerados os registros em que a coluna `CGN` é igual à `CGL`."
   ]
  },
  {
   "cell_type": "code",
   "execution_count": 17,
   "metadata": {},
   "outputs": [
    {
     "data": {
      "application/vnd.jupyter.widget-view+json": {
       "model_id": "a8822375-ad88-447d-917e-11d320231d0f",
       "version_major": 2,
       "version_minor": 0
      },
      "method": "display_data"
     },
     "metadata": {},
     "output_type": "display_data"
    }
   ],
   "source": [
    "SELECT DISTINCT C.CROP_GROUP_DESCRIPTION\n",
    "FROM RECIPES R, CROP_GROUP C, FCID_DESCRIPTION F\n",
    "WHERE R.FOOD_CODE = '27111300' AND R.FCID_CODE = F.FCID_CODE AND F.CGN = C.CGN AND C.CGN = C.CGL"
   ]
  },
  {
   "cell_type": "markdown",
   "metadata": {},
   "source": [
    "## 4) Participação nas Receitas\n",
    "* Liste o nome de cada um dos produtos alimentares seguido do número de receitas em que ele participa.\n",
    "* A lista deve ser apresentada em ordem decrescente de número de participação em receitas."
   ]
  },
  {
   "cell_type": "code",
   "execution_count": 19,
   "metadata": {},
   "outputs": [
    {
     "data": {
      "application/vnd.jupyter.widget-view+json": {
       "model_id": "f3928397-31d2-472c-b0ba-fbc17764590e",
       "version_major": 2,
       "version_minor": 0
      },
      "method": "display_data"
     },
     "metadata": {},
     "output_type": "display_data"
    }
   ],
   "source": [
    "SELECT F.FCID_DESC, COUNT(*) NUM_RECIPES\n",
    "FROM FCID_DESCRIPTION F, RECIPES R\n",
    "WHERE R.FCID_CODE = F.FCID_CODE\n",
    "GROUP BY F.FCID_CODE\n",
    "ORDER BY NUM_RECIPES DESC"
   ]
  },
  {
   "cell_type": "markdown",
   "metadata": {},
   "source": [
    "## 5) Consumo Médio de Grupos de Alimentos\n",
    "* Para cada Grupo de Alimentos (cada CGN diferente na tabela Crop_Group), apresente sua descrição e o consumo médio deste grupo de alimentos.\n",
    "* O consumo é definido pelo campo `Intake` da tabela `Intake`."
   ]
  },
  {
   "cell_type": "code",
   "execution_count": 20,
   "metadata": {},
   "outputs": [
    {
     "data": {
      "application/vnd.jupyter.widget-view+json": {
       "model_id": "cff48401-d1ab-47c6-9438-b97f7a0e646a",
       "version_major": 2,
       "version_minor": 0
      },
      "method": "display_data"
     },
     "metadata": {},
     "output_type": "display_data"
    }
   ],
   "source": [
    "SELECT C.CROP_GROUP_DESCRIPTION, AVG(I.INTAKE) AVERAGE_CONSUME\n",
    "FROM INTAKE I, CROP_GROUP C, FCID_DESCRIPTION F\n",
    "WHERE I.FCID_CODE = F.FCID_CODE AND F.CGN = C.CGN AND C.CGN = C.CGL\n",
    "GROUP BY C.CGN"
   ]
  }
 ],
 "metadata": {
  "kernelspec": {
   "display_name": "SQL",
   "language": "SQL",
   "name": "sql"
  },
  "language_info": {
   "codemirror_mode": "sql",
   "file_extension": ".sql",
   "mimetype": "",
   "name": "SQL",
   "nbconverter_exporter": "",
   "version": ""
  },
  "toc": {
   "base_numbering": 1,
   "nav_menu": {},
   "number_sections": false,
   "sideBar": false,
   "skip_h1_title": false,
   "title_cell": "Table of Contents",
   "title_sidebar": "Contents",
   "toc_cell": false,
   "toc_position": {},
   "toc_section_display": false,
   "toc_window_display": false
  }
 },
 "nbformat": 4,
 "nbformat_minor": 2
}
